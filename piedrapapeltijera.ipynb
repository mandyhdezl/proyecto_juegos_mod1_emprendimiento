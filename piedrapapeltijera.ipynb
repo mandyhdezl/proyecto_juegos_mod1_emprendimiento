{
 "cells": [
  {
   "cell_type": "code",
   "execution_count": null,
   "metadata": {},
   "outputs": [
    {
     "name": "stdout",
     "output_type": "stream",
     "text": [
      "Ronda 1\n"
     ]
    },
    {
     "name": "stdout",
     "output_type": "stream",
     "text": [
      "Respuesta no válida\n",
      "Ronda 2\n",
      "Respuesta no válida\n",
      "Ronda 3\n",
      "Respuesta no válida\n",
      "\n",
      "Resultado final:\n",
      "Tú: 0 puntos\n",
      "Computadora: 0 puntos\n",
      "Ha sido un empate 🤝\n"
     ]
    }
   ],
   "source": [
    "import random\n",
    "\n",
    "opciones = ['piedra', 'papel', 'tijera']\n",
    "pc_puntos = 0\n",
    "usuario_puntos = 0\n",
    "\n",
    "for ronda in range(1, 4):\n",
    "    print(f'Ronda {ronda}')\n",
    "    usuario = input('Elige piedra, papel o tijera: ').lower()\n",
    "    \n",
    "    if usuario not in opciones:\n",
    "        print('Respuesta no válida')\n",
    "        continue\n",
    "    \n",
    "    \n",
    "    pc = random.choice(opciones)\n",
    "    print(f'Elegiste: {usuario}')\n",
    "    print(f'Tu contrincante eligió: {pc}')\n",
    "    \n",
    "    if usuario == pc:\n",
    "        print('Has empatado 🤓')\n",
    "    elif (usuario == 'piedra' and pc == 'tijera') or\\\n",
    "        (usuario == 'tijera' and pc == 'papel') or\\\n",
    "        (usuario == 'papel' and pc == 'piedra'):\n",
    "        print('\"Has Ganado! Enhorabuena!!!')\n",
    "        usuario_puntos += 1\n",
    "    else:\n",
    "        print(\"Has perdido. Inténtalo de nuevo 🤪\")\n",
    "        pc_puntos += 1\n",
    "\n",
    "print('\\nResultado final:')\n",
    "print(f'Tú: {usuario_puntos} puntos')\n",
    "print(f'Computadora: {pc_puntos} puntos')\n",
    "\n",
    "if usuario_puntos > pc_puntos:\n",
    "    print('¡Enhorabuena! Has ganado el juego 🥳')\n",
    "elif usuario_puntos < pc_puntos:\n",
    "    print('Tu oponente ha ganado esta vez. Vuelvelo a intentar 😞')\n",
    "else:\n",
    "    print('Ha sido un empate 🤝')"
   ]
  }
 ],
 "metadata": {
  "kernelspec": {
   "display_name": "base",
   "language": "python",
   "name": "python3"
  },
  "language_info": {
   "codemirror_mode": {
    "name": "ipython",
    "version": 3
   },
   "file_extension": ".py",
   "mimetype": "text/x-python",
   "name": "python",
   "nbconvert_exporter": "python",
   "pygments_lexer": "ipython3",
   "version": "3.11.11"
  }
 },
 "nbformat": 4,
 "nbformat_minor": 2
}
