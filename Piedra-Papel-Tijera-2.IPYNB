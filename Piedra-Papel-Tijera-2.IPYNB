{
 "cells": [
  {
   "cell_type": "markdown",
   "metadata": {},
   "source": [
    "1. Comienza por definir el número de puntos objetivo que se deben alcanzar para ganar el juego.\n",
    "2. Implementa una función que obtenga la elección del jugador y valide que sea una de las opciones válidas (\"Piedra\", \"Papel\" o \"Tijera\").\n",
    "3. Utiliza un bucle `while` para llevar un registro de los puntos de cada jugador y continuar el juego hasta que se alcance el número de puntos objetivo.\n",
    "4. Genera una elección aleatoria para el segundo jugador (la computadora) utilizando el módulo `random`.\n",
    "5. Determina al ganador de cada ronda y actualiza los puntos correspondientes.\n",
    "6. Verifica si algún jugador ha alcanzado el número de puntos objetivo y finalicen el juego cuando eso suceda."
   ]
  },
  {
   "cell_type": "code",
   "execution_count": null,
   "metadata": {},
   "outputs": [],
   "source": [
    "puntos_finales = 10"
   ]
  },
  {
   "cell_type": "code",
   "execution_count": 25,
   "metadata": {},
   "outputs": [],
   "source": [
    "def eleccion_jugador ():\n",
    "    \n",
    "    opciones = \"piedra\", \"papel\", \"tijera\"\n",
    "    \n",
    "    usuario = input('Elige piedra, papel o tijera: ').lower()\n",
    "    \n",
    "    if usuario in opciones:\n",
    "        return (usuario)\n",
    "    \n",
    "    if usuario not in opciones:\n",
    "        print (f\" Tu elección '{usuario}' no es correcta\")\n",
    "        return (usuario)"
   ]
  },
  {
   "cell_type": "code",
   "execution_count": null,
   "metadata": {},
   "outputs": [],
   "source": [
    "eleccion_jugador ()"
   ]
  },
  {
   "cell_type": "code",
   "execution_count": null,
   "metadata": {},
   "outputs": [
    {
     "name": "stdout",
     "output_type": "stream",
     "text": [
      "🕹¡¡¡Bienvenido al juego tradicional de piedra, papel o tijera!!!🕹\n"
     ]
    }
   ],
   "source": [
    "print('🕹¡¡¡Bienvenido al juego tradicional de piedra, papel o tijera!!!🕹')\n",
    "\n",
    "puntos_finales = 3\n",
    "\n",
    "import random\n",
    "opciones = ['piedra', 'papel', 'tijera']\n",
    "puntos_pc = 0\n",
    "puntos_usuario = 0\n",
    "\n",
    "def eleccion_jugador ():\n",
    "    \n",
    "    usuario = input('Elige piedra, papel o tijera: ').lower()\n",
    "    \n",
    "    if usuario in opciones:\n",
    "        print(f\"Tu elección ha sido:{usuario}\")\n",
    "        return usuario\n",
    "        \n",
    "    \n",
    "    else:\n",
    "        print(f\"Tu elección {usuario} no es correcta\")\n",
    "        return None\n",
    "\n",
    "\n",
    "while puntos_usuario < puntos_finales and puntos_pc < puntos_finales:\n",
    "    usuario = eleccion_jugador() \n",
    "    \n",
    "    if usuario is None:\n",
    "        continue\n",
    "    \n",
    "    \n",
    "    pc = random.choice(opciones)\n",
    "    print(f'Tu contrincante eligió: {pc}')\n",
    "    \n",
    "    \n",
    "    if usuario == pc:\n",
    "        print('Has empatado 🤓')\n",
    "    \n",
    "    elif (usuario == 'piedra' and pc == 'tijera') or\\\n",
    "        (usuario == 'tijera' and pc == 'papel') or\\\n",
    "        (usuario == 'papel' and pc == 'piedra'):\n",
    "        print('\"Has Ganado esta ronda! Enhorabuena!!!')\n",
    "        puntos_usuario += 1\n",
    "    \n",
    "    else:\n",
    "        print(\"Has perdido! Lo sentimos, prueba en la siguiente ronda\")\n",
    "        puntos_pc += 1\n",
    "        \n",
    "    print(f\"Marcador: Usuario {puntos_usuario} - Computadora '{puntos_pc}'\")\n",
    "    \n",
    "    print('-'* 40 )\n",
    "    \n",
    "if puntos_usuario == puntos_finales:\n",
    "        print (\"Has ganado el juego\")\n",
    "    \n",
    "else:\n",
    "        print (\"Has perdido. Inténtalo de nuevo 🤪\") \n",
    "    \n",
    "print('\\nResultado final:')\n",
    "print(f'Tú: {puntos_usuario} puntos')\n",
    "print(f'Computadora: {puntos_pc} puntos')\n",
    "    \n",
    "    "
   ]
  }
 ],
 "metadata": {
  "kernelspec": {
   "display_name": "base",
   "language": "python",
   "name": "python3"
  },
  "language_info": {
   "codemirror_mode": {
    "name": "ipython",
    "version": 3
   },
   "file_extension": ".py",
   "mimetype": "text/x-python",
   "name": "python",
   "nbconvert_exporter": "python",
   "pygments_lexer": "ipython3",
   "version": "3.11.11"
  }
 },
 "nbformat": 4,
 "nbformat_minor": 2
}
