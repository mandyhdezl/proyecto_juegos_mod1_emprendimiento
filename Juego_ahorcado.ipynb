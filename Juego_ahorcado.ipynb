{
 "cells": [
  {
   "cell_type": "markdown",
   "metadata": {},
   "source": [
    " # Ahorcado\n",
    "\n",
    "- Reglas del juego del \"Ahorcado\":\n",
    "\n",
    "    - Un jugador elige una palabra secreta y dibuja un espacio para cada letra de la palabra.\n",
    "\n",
    "    - El otro jugador intenta adivinar letras para completar la palabra.\n",
    "\n",
    "    - Si el jugador adivinador adivina una letra correctamente, se revela en su lugar correspondiente.\n",
    "\n",
    "    - Si el jugador adivinador adivina incorrectamente, se dibuja una parte del cuerpo en la horca.\n",
    "\n",
    "    - El objetivo del jugador adivinador es adivinar la palabra antes de que se dibuje el dibujo completo en la horca.\n",
    "\n",
    "\n",
    "- Pistas para las alumnas:\n",
    "\n",
    "    1. Empieza por seleccionar una palabra secreta para que el jugador adivinador intente adivinar. Puedes crear una lista de palabras.\n",
    "\n",
    "    2. Inicializa el tablero de juego con guiones bajos (\"_\") para representar las letras no adivinadas.\n",
    "\n",
    "    3. Utiliza un bucle `while` para permitir que el jugador adivinador haga múltiples intentos hasta que adivine la palabra o se agoten los intentos.\n",
    "\n",
    "    4. Verifica si la letra adivinada por el jugador está en la palabra secreta y actualicen el tablero en consecuencia.\n",
    "\n",
    "    5. Lleva un seguimiento de las letras adivinadas y los intentos fallidos.\n",
    "\n",
    "    6. Determina las condiciones de victoria y derrota del juego, y salgan del bucle cuando se cumplan estas condiciones.\n"
   ]
  },
  {
   "cell_type": "code",
   "execution_count": null,
   "metadata": {},
   "outputs": [
    {
     "name": "stdout",
     "output_type": "stream",
     "text": [
      "Tienes 4 intentos\n",
      "No es la respuesta. Sigue intentando con un numero mayor\n",
      "Tienes 3 intentos\n",
      "No es la respuesta. Sigue intentando con un numero menor\n",
      "Tienes 2 intentos\n",
      "Estas muy lejos\n",
      "Tienes 1 intentos\n",
      "Uff... Ganaste en el ultimo intento\n"
     ]
    }
   ],
   "source": [
    "num=50\n",
    "intentos=4\n",
    "\n",
    "while intentos>0:\n",
    "    print(f\"Tienes {intentos} intentos\")\n",
    "    intentos-=1\n",
    "    pregunta=int(input(\"Ingresa un numero del 1 al 100\"))\n",
    "\n",
    "    if 50==pregunta and intentos==3:\n",
    "        print(\"Ganaste en el primer intento\")\n",
    "        break\n",
    "    elif intentos!=0 and num==pregunta:\n",
    "        print(\"Ganaste.\")\n",
    "        break\n",
    "    elif intentos==0 and num==pregunta:\n",
    "        print(\"Uff... Ganaste en el ultimo intento\")\n",
    "        break\n",
    "    elif num<pregunta<=100:\n",
    "        print(\"No es la respuesta. Sigue intentando con un numero menor\")\n",
    "    elif num>pregunta>=1:\n",
    "        print(\"No es la respuesta. Sigue intentando con un numero mayor\")\n",
    "    else:\n",
    "        print(\"Estas muy lejos\")\n",
    "if intentos==0 and num!=pregunta:\n",
    "    print(\"Te quedaste sin intentos, el número era:\", num)"
   ]
  },
  {
   "cell_type": "code",
   "execution_count": null,
   "metadata": {},
   "outputs": [],
   "source": [
    "palabra = list(\"adalab\")\n",
    "intentos = 6\n",
    "\n",
    "\n",
    "while intentos <= 6:\n",
    "    print(f'Llevas \"{intentos}\" intentos, te quedan \"{intentos-1}\"') # esto habrá que moverlo\n",
    "    intentos -= 1 \n",
    "    letra = input(\"Ingresa una letra\")\n",
    "    \n",
    "\n",
    "\n",
    "\n"
   ]
  },
  {
   "cell_type": "code",
   "execution_count": null,
   "metadata": {},
   "outputs": [
    {
     "name": "stdout",
     "output_type": "stream",
     "text": [
      "a\n",
      "a\n",
      "a\n",
      "a\n",
      "a\n",
      "a\n"
     ]
    }
   ],
   "source": [
    "palabra = list(\"adalab\")\n",
    "letra = input(\"Ingresa una letra\")\n",
    "\n",
    "if letra in palabra:\n",
    "    print(letra) \n",
    "    #en realidad queremos que imprima A_A_A_ para esto, creo que hay que buscar los índices en donde aparezca e imprimir\n",
    "        \n",
    "else:\n",
    "    print('figura del ahorcado')"
   ]
  },
  {
   "cell_type": "code",
   "execution_count": 3,
   "metadata": {},
   "outputs": [
    {
     "name": "stdout",
     "output_type": "stream",
     "text": [
      "Llevas 6 intentos, te quedan '5'\n"
     ]
    }
   ],
   "source": [
    "intentos = 6\n",
    "print(f\"Llevas {intentos} intentos, te quedan '{intentos-1}'\")\n",
    "\n",
    " "
   ]
  }
 ],
 "metadata": {
  "kernelspec": {
   "display_name": "Python 3",
   "language": "python",
   "name": "python3"
  },
  "language_info": {
   "codemirror_mode": {
    "name": "ipython",
    "version": 3
   },
   "file_extension": ".py",
   "mimetype": "text/x-python",
   "name": "python",
   "nbconvert_exporter": "python",
   "pygments_lexer": "ipython3",
   "version": "3.9.6"
  }
 },
 "nbformat": 4,
 "nbformat_minor": 2
}
